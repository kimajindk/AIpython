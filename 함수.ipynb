{
  "nbformat": 4,
  "nbformat_minor": 0,
  "metadata": {
    "colab": {
      "provenance": [],
      "authorship_tag": "ABX9TyPZxtRNzh6KZJ3R48iCpbh0",
      "include_colab_link": true
    },
    "kernelspec": {
      "name": "python3",
      "display_name": "Python 3"
    },
    "language_info": {
      "name": "python"
    }
  },
  "cells": [
    {
      "cell_type": "markdown",
      "metadata": {
        "id": "view-in-github",
        "colab_type": "text"
      },
      "source": [
        "<a href=\"https://colab.research.google.com/github/kimajindk/AIpython/blob/main/%ED%95%A8%EC%88%98.ipynb\" target=\"_parent\"><img src=\"https://colab.research.google.com/assets/colab-badge.svg\" alt=\"Open In Colab\"/></a>"
      ]
    },
    {
      "cell_type": "code",
      "execution_count": null,
      "metadata": {
        "id": "UvKG4CkZWGtX"
      },
      "outputs": [],
      "source": [
        "# 함수 선언\n",
        "def greet():\n",
        "    \"\"\"간단한 인사 메시지를 출력하는 함수입니다.\"\"\"\n",
        "    print(\"안녕하세요! 파이썬 함수 학습을 시작합니다.\")\n",
        "    print(\"만나서 반갑습니다.\")"
      ]
    },
    {
      "cell_type": "code",
      "source": [
        "greet()"
      ],
      "metadata": {
        "colab": {
          "base_uri": "https://localhost:8080/"
        },
        "id": "b5FbRIboXM8S",
        "outputId": "3dbd72d7-d41d-4469-9fa4-75f16adea84e"
      },
      "execution_count": null,
      "outputs": [
        {
          "output_type": "stream",
          "name": "stdout",
          "text": [
            "안녕하세요! 파이썬 함수 학습을 시작합니다.\n",
            "만나서 반갑습니다.\n"
          ]
        }
      ]
    },
    {
      "cell_type": "code",
      "source": [
        "# 함수 선언\n",
        "def describe_pet(animal_type, pet_name):\n",
        "    \"\"\"애완동물의 종류와 이름을 출력합니다.\"\"\"\n",
        "    print(f\"저의 애완동물은 {animal_type}이고, 이름은 {pet_name}입니다.\")\n",
        "\n",
        "describe_pet(pet_name=\"해피\", animal_type=\"강아지\")"
      ],
      "metadata": {
        "colab": {
          "base_uri": "https://localhost:8080/"
        },
        "id": "ylE5RloBXVR-",
        "outputId": "07290486-0f90-44e1-af47-c76b206f776b"
      },
      "execution_count": null,
      "outputs": [
        {
          "output_type": "stream",
          "name": "stdout",
          "text": [
            "저의 애완동물은 강아지이고, 이름은 해피입니다.\n"
          ]
        }
      ]
    },
    {
      "cell_type": "code",
      "source": [
        "# 함수 선언 (message 매개변수에 기본값 설정)\n",
        "def greet_with_message(name, message=\"안녕하세요\"):\n",
        "    \"\"\"지정된 사람에게 지정된 메시지로 인사하거나, 기본 메시지로 인사합니다.\"\"\"\n",
        "    print(f\"{message}, {name}님!\")\n",
        "\n",
        "# 함수 호출\n",
        "greet_with_message(\"박지성\")  # message 인수를 생략 -> 기본값 \"안녕하세요\" 사용\n",
        "greet_with_message(\"손흥민\", \"환영합니다\") # message 인수를 전달 -> \"환영합니다\" 사용\n",
        "\n",
        "# 출력 결과:\n",
        "# 안녕하세요, 박지성님!\n",
        "# 환영합니다, 손흥민님!"
      ],
      "metadata": {
        "colab": {
          "base_uri": "https://localhost:8080/"
        },
        "id": "A_QLfiF8Z8wQ",
        "outputId": "8f00d4b9-43b5-48cd-eda1-de6d7022995c"
      },
      "execution_count": null,
      "outputs": [
        {
          "output_type": "stream",
          "name": "stdout",
          "text": [
            "안녕하세요, 박지성님!\n",
            "환영합니다, 손흥민님!\n"
          ]
        }
      ]
    },
    {
      "cell_type": "code",
      "source": [
        "# 함수 선언\n",
        "def add_numbers(a, b):\n",
        "    \"\"\"두 숫자를 더한 결과를 반환합니다.\"\"\"\n",
        "    sum_result = a + b\n",
        "    return sum_result # 계산 결과를 반환\n",
        "\n",
        "# 함수 호출 및 반환값 사용\n",
        "result = add_numbers(5, 3) # add_numbers 함수의 반환값을 result 변수에 저장\n",
        "print(f\"5 + 3의 결과는 {result}입니다.\")\n",
        "\n",
        "another_result = add_numbers(10, 20)\n",
        "print(f\"10 + 20의 결과는 {another_result}입니다.\")\n",
        "\n",
        "# 출력 결과:\n",
        "# 5 + 3의 결과는 8입니다.\n",
        "# 10 + 20의 결과는 30입니다."
      ],
      "metadata": {
        "colab": {
          "base_uri": "https://localhost:8080/"
        },
        "id": "GU06V_awaOIz",
        "outputId": "f09b200d-b5e4-4f2a-d277-e8394f3b907f"
      },
      "execution_count": null,
      "outputs": [
        {
          "output_type": "stream",
          "name": "stdout",
          "text": [
            "5 + 3의 결과는 8입니다.\n",
            "10 + 20의 결과는 30입니다.\n"
          ]
        }
      ]
    },
    {
      "cell_type": "code",
      "source": [
        "# 전역 변수\n",
        "global_variable = \"전역 변수입니다.\"\n",
        "\n",
        "def scope_test_function():\n",
        "    # 지역 변수\n",
        "    local_variable = \"지역 변수입니다.\"\n",
        "    print(f\"함수 내부에서 local_variable: {local_variable}\")\n",
        "    print(f\"함수 내부에서 global_variable: {global_variable}\") # 함수 내에서 전역 변수 읽기 가능\n",
        "\n",
        "# 함수 호출\n",
        "scope_test_function()\n",
        "\n",
        "print(f\"함수 외부에서 global_variable: {global_variable}\")\n",
        "print(f\"함수 외부에서 local_variable: {local_variable}\") # 주석 해제 시 NameError 발생!\n",
        "\n",
        "# 출력 결과:\n",
        "# 함수 내부에서 local_variable: 지역 변수입니다.\n",
        "# 함수 내부에서 global_variable: 전역 변수입니다.\n",
        "# 함수 외부에서 global_variable: 전역 변수입니다.\n",
        "# (만약 마지막 주석을 풀면 NameError: name 'local_variable' is not defined 오류 발생)"
      ],
      "metadata": {
        "colab": {
          "base_uri": "https://localhost:8080/",
          "height": 309
        },
        "id": "HJjyIZ6Gam92",
        "outputId": "765cba1d-3c76-4196-bca1-747a1d375b06"
      },
      "execution_count": null,
      "outputs": [
        {
          "output_type": "stream",
          "name": "stdout",
          "text": [
            "함수 내부에서 local_variable: 지역 변수입니다.\n",
            "함수 내부에서 global_variable: 전역 변수입니다.\n",
            "함수 외부에서 global_variable: 전역 변수입니다.\n"
          ]
        },
        {
          "output_type": "error",
          "ename": "NameError",
          "evalue": "name 'local_variable' is not defined",
          "traceback": [
            "\u001b[0;31m---------------------------------------------------------------------------\u001b[0m",
            "\u001b[0;31mNameError\u001b[0m                                 Traceback (most recent call last)",
            "\u001b[0;32m<ipython-input-13-3332375599>\u001b[0m in \u001b[0;36m<cell line: 0>\u001b[0;34m()\u001b[0m\n\u001b[1;32m     12\u001b[0m \u001b[0;34m\u001b[0m\u001b[0m\n\u001b[1;32m     13\u001b[0m \u001b[0mprint\u001b[0m\u001b[0;34m(\u001b[0m\u001b[0;34mf\"함수 외부에서 global_variable: {global_variable}\"\u001b[0m\u001b[0;34m)\u001b[0m\u001b[0;34m\u001b[0m\u001b[0;34m\u001b[0m\u001b[0m\n\u001b[0;32m---> 14\u001b[0;31m \u001b[0mprint\u001b[0m\u001b[0;34m(\u001b[0m\u001b[0;34mf\"함수 외부에서 local_variable: {local_variable}\"\u001b[0m\u001b[0;34m)\u001b[0m \u001b[0;31m# 주석 해제 시 NameError 발생!\u001b[0m\u001b[0;34m\u001b[0m\u001b[0;34m\u001b[0m\u001b[0m\n\u001b[0m\u001b[1;32m     15\u001b[0m \u001b[0;34m\u001b[0m\u001b[0m\n\u001b[1;32m     16\u001b[0m \u001b[0;31m# 출력 결과:\u001b[0m\u001b[0;34m\u001b[0m\u001b[0;34m\u001b[0m\u001b[0m\n",
            "\u001b[0;31mNameError\u001b[0m: name 'local_variable' is not defined"
          ]
        }
      ]
    },
    {
      "cell_type": "code",
      "source": [],
      "metadata": {
        "id": "N_H9k2N7cPel"
      },
      "execution_count": null,
      "outputs": []
    }
  ]
}