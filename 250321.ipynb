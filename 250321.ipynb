{
 "cells": [
  {
   "cell_type": "code",
   "execution_count": 5,
   "id": "3c578d95-0d80-4b28-8c1a-e85e419cb894",
   "metadata": {},
   "outputs": [
    {
     "name": "stdin",
     "output_type": "stream",
     "text": [
      "나이를 입력하세요 10\n"
     ]
    },
    {
     "name": "stdout",
     "output_type": "stream",
     "text": [
      "당신은 내년에 11 살입니다\n"
     ]
    }
   ],
   "source": [
    "age=input(\"나이를 입력하세요\")\n",
    "age=int(age)\n",
    "print(\"당신은 내년에\", age+1, \"살입니다\")"
   ]
  },
  {
   "cell_type": "code",
   "execution_count": 6,
   "id": "e4e0999e-eaf0-4292-a827-3738de5eb97b",
   "metadata": {},
   "outputs": [
    {
     "name": "stdin",
     "output_type": "stream",
     "text": [
      "나이를 입력하세요 10\n"
     ]
    },
    {
     "name": "stdout",
     "output_type": "stream",
     "text": [
      "당신은 내년에 11 살입니다\n"
     ]
    }
   ],
   "source": [
    "age=input(\"나이를 입력하세요\")\n",
    "age=int(age)\n",
    "age=age+1\n",
    "print(\"당신은 내년에\", age, \"살입니다\")"
   ]
  },
  {
   "cell_type": "code",
   "execution_count": 10,
   "id": "4a8daa82-9858-449c-a53c-58ecc031ca23",
   "metadata": {},
   "outputs": [
    {
     "name": "stdin",
     "output_type": "stream",
     "text": [
      "나이를 입력하세요 10\n"
     ]
    },
    {
     "name": "stdout",
     "output_type": "stream",
     "text": [
      "당신은 내년에 11 살입니다\n"
     ]
    }
   ],
   "source": [
    "age=int(input(\"나이를 입력하세요\"))\n",
    "\n",
    "print(\"당신은 내년에\", age+1, \"살입니다\")"
   ]
  },
  {
   "cell_type": "code",
   "execution_count": 12,
   "id": "99909df2-67df-47c7-bf8f-e85b404256fd",
   "metadata": {},
   "outputs": [
    {
     "name": "stdin",
     "output_type": "stream",
     "text": [
      "나이를 입력하세요 10\n"
     ]
    },
    {
     "ename": "TypeError",
     "evalue": "unsupported operand type(s) for +: 'int' and 'str'",
     "output_type": "error",
     "traceback": [
      "\u001b[0;31m---------------------------------------------------------------------------\u001b[0m",
      "\u001b[0;31mTypeError\u001b[0m                                 Traceback (most recent call last)",
      "Cell \u001b[0;32mIn[12], line 3\u001b[0m\n\u001b[1;32m      1\u001b[0m age\u001b[38;5;241m=\u001b[39m\u001b[38;5;28mint\u001b[39m(\u001b[38;5;28minput\u001b[39m(\u001b[38;5;124m\"\u001b[39m\u001b[38;5;124m나이를 입력하세요\u001b[39m\u001b[38;5;124m\"\u001b[39m))\n\u001b[0;32m----> 3\u001b[0m \u001b[38;5;28mprint\u001b[39m(\u001b[43mage\u001b[49m\u001b[38;5;241;43m+\u001b[39;49m\u001b[38;5;124;43m\"\u001b[39;49m\u001b[38;5;124;43m살입니다\u001b[39;49m\u001b[38;5;124;43m\"\u001b[39;49m)\n",
      "\u001b[0;31mTypeError\u001b[0m: unsupported operand type(s) for +: 'int' and 'str'"
     ]
    }
   ],
   "source": [
    "age=int(input(\"나이를 입력하세요\"))\n",
    "\n",
    "print(age+\"살입니다\")"
   ]
  },
  {
   "cell_type": "code",
   "execution_count": 14,
   "id": "7a42cdc1-6f12-4299-ab79-fac3904e7d7b",
   "metadata": {},
   "outputs": [
    {
     "name": "stdin",
     "output_type": "stream",
     "text": [
      "나이를 입력하세요 10\n"
     ]
    },
    {
     "name": "stdout",
     "output_type": "stream",
     "text": [
      "10살입니다\n"
     ]
    }
   ],
   "source": [
    "age=int(input(\"나이를 입력하세요\"))\n",
    "\n",
    "print(str(age)+\"살입니다\")"
   ]
  },
  {
   "cell_type": "code",
   "execution_count": 25,
   "id": "7f748633-2c51-47ce-a5d8-300d0a4d216a",
   "metadata": {},
   "outputs": [
    {
     "name": "stdin",
     "output_type": "stream",
     "text": [
      "Your score 89\n"
     ]
    },
    {
     "name": "stdout",
     "output_type": "stream",
     "text": [
      "Pass\n"
     ]
    }
   ],
   "source": [
    "score=int(input(\"Your score\"))\n",
    "if score >=90:\n",
    "    print(\"Great job\")\n",
    "elif score>=60:\n",
    "    print(\"Pass\")\n",
    "else:\n",
    "    print(\"다음에 더 잘해봐요\")"
   ]
  },
  {
   "cell_type": "code",
   "execution_count": 36,
   "id": "455da7fc-df47-43ae-84a2-5048f3bc3a23",
   "metadata": {},
   "outputs": [
    {
     "name": "stdin",
     "output_type": "stream",
     "text": [
      "숫자를 입력하세요: -5.2\n"
     ]
    },
    {
     "name": "stdout",
     "output_type": "stream",
     "text": [
      "음수\n"
     ]
    }
   ],
   "source": [
    "#입력받은 숫자가 양수인지 음수인지 구분하는 프로그램\n",
    "num=float(input(\"숫자를 입력하세요:\"))\n",
    "if num>0: print(\"양수\")\n",
    "elif num<0:print(\"음수\")\n",
    "else:print(0)"
   ]
  },
  {
   "cell_type": "code",
   "execution_count": 38,
   "id": "0175561a-abcf-4f91-bbb1-86a27fdf1afb",
   "metadata": {},
   "outputs": [
    {
     "name": "stdin",
     "output_type": "stream",
     "text": [
      "숫자를 입력하세요: 11\n"
     ]
    },
    {
     "name": "stdout",
     "output_type": "stream",
     "text": [
      "홀수\n"
     ]
    }
   ],
   "source": [
    "#입력받은 숫자가 홀수인지 짝수인지 구분하는 프로그램\n",
    "num=int(input(\"숫자를 입력하세요:\"))\n",
    "if num%2 ==0:print(\"짝수\")\n",
    "else:print(\"홀수\")"
   ]
  },
  {
   "cell_type": "code",
   "execution_count": 39,
   "id": "6014e5ba-8709-4aa6-b047-de129e2cf2b9",
   "metadata": {},
   "outputs": [
    {
     "name": "stdin",
     "output_type": "stream",
     "text": [
      "숫자를 입력하세요: 5\n"
     ]
    },
    {
     "name": "stdout",
     "output_type": "stream",
     "text": [
      "양수\n"
     ]
    }
   ],
   "source": [
    "#입력받은 숫자가 양수인지 음수인지 구분하는 프로그램\n",
    "num=int(input(\"숫자를 입력하세요:\"))\n",
    "if num>0: print(\"양수\")\n",
    "elif num<0:print(\"음수\")\n",
    "else:print(0)"
   ]
  },
  {
   "cell_type": "code",
   "execution_count": 55,
   "id": "edffdf02-e365-4b4f-b96d-d1d07dc173fa",
   "metadata": {},
   "outputs": [
    {
     "name": "stdin",
     "output_type": "stream",
     "text": [
      " 0 0\n"
     ]
    },
    {
     "name": "stdout",
     "output_type": "stream",
     "text": [
      "무승부\n"
     ]
    }
   ],
   "source": [
    "a,b=map(int, input().split())\n",
    "if a>3 or b>3: print(\"잘못된입력\")\n",
    "elif a==b: print(\"무승부\")\n",
    "elif (a==1 and b==3) or (a==2 and b==1) or (a==3 and b==2): print(\"A승B패\")\n",
    "else:print(\"B승A패\")\n"
   ]
  },
  {
   "cell_type": "code",
   "execution_count": null,
   "id": "cb31e077-a456-4bea-a118-f4c93d3e27f3",
   "metadata": {},
   "outputs": [],
   "source": []
  }
 ],
 "metadata": {
  "kernelspec": {
   "display_name": "Python 3 (ipykernel)",
   "language": "python",
   "name": "python3"
  },
  "language_info": {
   "codemirror_mode": {
    "name": "ipython",
    "version": 3
   },
   "file_extension": ".py",
   "mimetype": "text/x-python",
   "name": "python",
   "nbconvert_exporter": "python",
   "pygments_lexer": "ipython3",
   "version": "3.12.6"
  }
 },
 "nbformat": 4,
 "nbformat_minor": 5
}
