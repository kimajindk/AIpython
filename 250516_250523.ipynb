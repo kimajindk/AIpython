{
  "nbformat": 4,
  "nbformat_minor": 0,
  "metadata": {
    "colab": {
      "provenance": [],
      "authorship_tag": "ABX9TyNN2Yacl/kYBryjzVhG/lHf",
      "include_colab_link": true
    },
    "kernelspec": {
      "name": "python3",
      "display_name": "Python 3"
    },
    "language_info": {
      "name": "python"
    }
  },
  "cells": [
    {
      "cell_type": "markdown",
      "metadata": {
        "id": "view-in-github",
        "colab_type": "text"
      },
      "source": [
        "<a href=\"https://colab.research.google.com/github/kimajindk/AIpython/blob/main/250516_250523.ipynb\" target=\"_parent\"><img src=\"https://colab.research.google.com/assets/colab-badge.svg\" alt=\"Open In Colab\"/></a>"
      ]
    },
    {
      "cell_type": "code",
      "source": [
        "import pandas as pd\n",
        "import numpy as np\n",
        "import matplotlib.pyplot as plt\n",
        "import plotly.express as px"
      ],
      "metadata": {
        "id": "kZ84pMIE6_s1"
      },
      "execution_count": 2,
      "outputs": []
    },
    {
      "cell_type": "code",
      "source": [
        "!apt-get -qq install fonts-nanum\n",
        "import matplotlib.font_manager as fm\n",
        "plt.rc('font', family='NanumGothic')\n",
        "font_path = \"/usr/share/fonts/truetype/nanum/NanumGothic.ttf\"\n",
        "font_prop = fm.FontProperties(fname=font_path)\n",
        "import logging\n",
        "import matplotlib\n",
        "logging.getLogger('matplotlib.font_manager').setLevel(logging.ERROR)"
      ],
      "metadata": {
        "id": "Pc09NLl7rNdn"
      },
      "execution_count": 3,
      "outputs": []
    },
    {
      "cell_type": "code",
      "source": [
        "#연습문제 1\n",
        "df = pd.read_csv('example_data.csv')\n",
        "print('문제 1: 데이터프레임')\n",
        "print(df)"
      ],
      "metadata": {
        "colab": {
          "base_uri": "https://localhost:8080/"
        },
        "id": "NAbSKNGf7ClT",
        "outputId": "613d7fb5-34f0-4f13-b400-ff86b3ac7b4e"
      },
      "execution_count": 27,
      "outputs": [
        {
          "output_type": "stream",
          "name": "stdout",
          "text": [
            "문제 1: 데이터프레임\n",
            "    학번    이름   학년   점수 분반  공부시간\n",
            "0    1  신사임당  NaN   69  B     4\n",
            "1    2   홍길동  1.0   92  B     3\n",
            "2    3   강감찬  4.0   91  C    20\n",
            "3    4   강감찬  2.0   70  C     5\n",
            "4    5   강감찬  3.0   83  C     5\n",
            "5    6   이순신  4.0   95  A     0\n",
            "6    7   강감찬  4.0   71  C     1\n",
            "7    8   김유신  NaN   88  B     5\n",
            "8    9  신사임당  3.0   94  A     9\n",
            "9   10   홍길동  NaN   60  B     3\n",
            "10  11   NaN  1.0  200  C     0\n",
            "11  12  신사임당  2.0   96  A    20\n",
            "12  13   김유신  4.0   65  A     0\n",
            "13  14   NaN  2.0   98  C     1\n",
            "14  15   홍길동  4.0   77  A     2\n",
            "15  16   이순신  4.0   75  A     4\n",
            "16  17   NaN  3.0   64  A     2\n",
            "17  18   홍길동  4.0   91  A     0\n",
            "18  19   이순신  1.0  200  A     3\n",
            "19  20  신사임당  2.0   61  A     2\n",
            "20  20  신사임당  2.0   61  A     2\n"
          ]
        }
      ]
    },
    {
      "cell_type": "code",
      "source": [
        "#연습문제 2\n",
        "print('문제 2: 데이터프레임 정보 요약')\n",
        "print(df.info())"
      ],
      "metadata": {
        "colab": {
          "base_uri": "https://localhost:8080/"
        },
        "id": "6PdbkYil7N-t",
        "outputId": "e5326627-5080-40aa-ce09-d65292fe1227"
      },
      "execution_count": 28,
      "outputs": [
        {
          "output_type": "stream",
          "name": "stdout",
          "text": [
            "문제 2: 데이터프레임 정보 요약\n",
            "<class 'pandas.core.frame.DataFrame'>\n",
            "RangeIndex: 21 entries, 0 to 20\n",
            "Data columns (total 6 columns):\n",
            " #   Column  Non-Null Count  Dtype  \n",
            "---  ------  --------------  -----  \n",
            " 0   학번      21 non-null     int64  \n",
            " 1   이름      18 non-null     object \n",
            " 2   학년      18 non-null     float64\n",
            " 3   점수      21 non-null     int64  \n",
            " 4   분반      21 non-null     object \n",
            " 5   공부시간    21 non-null     int64  \n",
            "dtypes: float64(1), int64(3), object(2)\n",
            "memory usage: 1.1+ KB\n",
            "None\n"
          ]
        }
      ]
    },
    {
      "cell_type": "code",
      "source": [
        "#연습문제 3\n",
        "print('문제 3: 숫자형데이터 기술 통계량')\n",
        "print(df.describe())"
      ],
      "metadata": {
        "colab": {
          "base_uri": "https://localhost:8080/"
        },
        "id": "TTCQwkKr7Ux8",
        "outputId": "b7099c85-40f7-47f4-888c-42d809918db1"
      },
      "execution_count": 29,
      "outputs": [
        {
          "output_type": "stream",
          "name": "stdout",
          "text": [
            "문제 3: 숫자형데이터 기술 통계량\n",
            "              학번         학년          점수       공부시간\n",
            "count  21.000000  18.000000   21.000000  21.000000\n",
            "mean   10.952381   2.777778   90.523810   4.333333\n",
            "std     6.127611   1.165966   38.647922   5.650959\n",
            "min     1.000000   1.000000   60.000000   0.000000\n",
            "25%     6.000000   2.000000   69.000000   1.000000\n",
            "50%    11.000000   3.000000   83.000000   3.000000\n",
            "75%    16.000000   4.000000   94.000000   5.000000\n",
            "max    20.000000   4.000000  200.000000  20.000000\n"
          ]
        }
      ]
    },
    {
      "cell_type": "code",
      "source": [
        "#연습문제 4\n",
        "print('문제 4: 각 열의 결측치 확인')\n",
        "print(df.isnull().sum())"
      ],
      "metadata": {
        "colab": {
          "base_uri": "https://localhost:8080/"
        },
        "id": "yQn5yEoT7Ynb",
        "outputId": "bd626c85-99c8-4faf-df0c-212369d9df37"
      },
      "execution_count": 30,
      "outputs": [
        {
          "output_type": "stream",
          "name": "stdout",
          "text": [
            "문제 4: 각 열의 결측치 확인\n",
            "학번      0\n",
            "이름      3\n",
            "학년      3\n",
            "점수      0\n",
            "분반      0\n",
            "공부시간    0\n",
            "dtype: int64\n"
          ]
        }
      ]
    },
    {
      "cell_type": "code",
      "source": [
        "#연습문제 5\n",
        "print('문제 5: 이상치 확인 (조건식)','\\n')\n",
        "out = df[(df['점수'] > 100) | (df['공부시간'] > 10)]\n",
        "print('이상치 개수:', len(out), '\\n')\n",
        "print(out)"
      ],
      "metadata": {
        "colab": {
          "base_uri": "https://localhost:8080/"
        },
        "id": "m--Gzy507dxH",
        "outputId": "5c8a71cd-b778-43c5-a5c3-398da0cb8f55"
      },
      "execution_count": 31,
      "outputs": [
        {
          "output_type": "stream",
          "name": "stdout",
          "text": [
            "문제 5: 이상치 확인 (조건식) \n",
            "\n",
            "이상치 개수: 4 \n",
            "\n",
            "    학번    이름   학년   점수 분반  공부시간\n",
            "2    3   강감찬  4.0   91  C    20\n",
            "10  11   NaN  1.0  200  C     0\n",
            "11  12  신사임당  2.0   96  A    20\n",
            "18  19   이순신  1.0  200  A     3\n"
          ]
        }
      ]
    },
    {
      "cell_type": "code",
      "source": [
        "print('문제 6: 중복 데이터 확인하기')\n",
        "print('중복 제거 전 데이터프레임 크기:', df.shape)\n",
        "print('완전 중복 행 개수:', df.duplicated(keep=False).sum())\n",
        "print(df[df.duplicated(keep=False)])"
      ],
      "metadata": {
        "colab": {
          "base_uri": "https://localhost:8080/"
        },
        "id": "7d5ZdX6X8B2E",
        "outputId": "7f8a411e-1cfe-4c62-efe9-efc258a9bc72"
      },
      "execution_count": 32,
      "outputs": [
        {
          "output_type": "stream",
          "name": "stdout",
          "text": [
            "문제 6: 중복 데이터 확인하기\n",
            "중복 제거 전 데이터프레임 크기: (21, 6)\n",
            "완전 중복 행 개수: 2\n",
            "    학번    이름   학년  점수 분반  공부시간\n",
            "19  20  신사임당  2.0  61  A     2\n",
            "20  20  신사임당  2.0  61  A     2\n"
          ]
        }
      ]
    },
    {
      "cell_type": "code",
      "source": [
        "print('문제 7: 완전 중복 제거')\n",
        "df_d = df.drop_duplicates()\n",
        "print('중복 제거 후 데이터프레임 크기:', df_d.shape)\n",
        "print('제거된 행 개수:', len(df) - len(df_d))\n",
        "print(df_d)"
      ],
      "metadata": {
        "colab": {
          "base_uri": "https://localhost:8080/"
        },
        "id": "vZOVqaGcESUS",
        "outputId": "2f92e321-723d-40b9-9c63-75ccd981ef9a"
      },
      "execution_count": 39,
      "outputs": [
        {
          "output_type": "stream",
          "name": "stdout",
          "text": [
            "문제 7: 완전 중복 제거\n",
            "중복 제거 후 데이터프레임 크기: (20, 6)\n",
            "제거된 행 개수: 1\n",
            "    학번    이름   학년   점수 분반  공부시간\n",
            "0    1  신사임당  NaN   69  B     4\n",
            "1    2   홍길동  1.0   92  B     3\n",
            "2    3   강감찬  4.0   91  C    20\n",
            "3    4   강감찬  2.0   70  C     5\n",
            "4    5   강감찬  3.0   83  C     5\n",
            "5    6   이순신  4.0   95  A     0\n",
            "6    7   강감찬  4.0   71  C     1\n",
            "7    8   김유신  NaN   88  B     5\n",
            "8    9  신사임당  3.0   94  A     9\n",
            "9   10   홍길동  NaN   60  B     3\n",
            "10  11   NaN  1.0  200  C     0\n",
            "11  12  신사임당  2.0   96  A    20\n",
            "12  13   김유신  4.0   65  A     0\n",
            "13  14   NaN  2.0   98  C     1\n",
            "14  15   홍길동  4.0   77  A     2\n",
            "15  16   이순신  4.0   75  A     4\n",
            "16  17   NaN  3.0   64  A     2\n",
            "17  18   홍길동  4.0   91  A     0\n",
            "18  19   이순신  1.0  200  A     3\n",
            "19  20  신사임당  2.0   61  A     2\n"
          ]
        }
      ]
    },
    {
      "cell_type": "code",
      "source": [
        "plt.scatter(df['공부시간'], df['점수'], alpha = 0.7)\n",
        "plt.title('공부시간 vs 점수', fontproperties=font_prop)\n",
        "plt.xlabel('공부시간', fontproperties=font_prop)\n",
        "plt.ylabel('점수', fontproperties=font_prop)\n",
        "plt.show()"
      ],
      "metadata": {
        "colab": {
          "base_uri": "https://localhost:8080/",
          "height": 467
        },
        "id": "ZCqN8-kLEgrP",
        "outputId": "af68a7e3-77a0-404c-efc2-e81ec59f5601"
      },
      "execution_count": 41,
      "outputs": [
        {
          "output_type": "display_data",
          "data": {
            "text/plain": [
              "<Figure size 640x480 with 1 Axes>"
            ],
            "image/png": "[encoded data removed]"
          },
          "metadata": {}
        }
      ]
    },
    {
      "cell_type": "code",
      "source": [
        "arr = np.array([1, 2, 3, 4, 5])\n",
        "np.mean(arr)"
      ],
      "metadata": {
        "colab": {
          "base_uri": "https://localhost:8080/"
        },
        "id": "5zEk_Wwiq3xV",
        "outputId": "bc29a9e1-4fc3-4c63-ff7b-6116ed7aa8c6"
      },
      "execution_count": 37,
      "outputs": [
        {
          "output_type": "execute_result",
          "data": {
            "text/plain": [
              "np.float64(3.0)"
            ]
          },
          "metadata": {},
          "execution_count": 37
        }
      ]
    },
    {
      "cell_type": "code",
      "source": [
        "arr.mean()"
      ],
      "metadata": {
        "colab": {
          "base_uri": "https://localhost:8080/"
        },
        "id": "rXsuaVV8wg2B",
        "outputId": "08f3b068-ec19-4d95-f45b-3b326bfe7deb"
      },
      "execution_count": 35,
      "outputs": [
        {
          "output_type": "execute_result",
          "data": {
            "text/plain": [
              "np.float64(3.0)"
            ]
          },
          "metadata": {},
          "execution_count": 35
        }
      ]
    },
    {
      "cell_type": "code",
      "source": [
        "data = pd.Series([10, 11, 12, 13, 14, 15, 100, 101])\n",
        "q1 = data.quantile(0.25)\n",
        "q3 = data.quantile(0.75)\n",
        "iqr = q3 - q1\n",
        "lb = q1 - 1.5 * (iqr)\n",
        "ub = q3 + 1.5 * (iqr)\n",
        "\n",
        "print(lb, ub)"
      ],
      "metadata": {
        "colab": {
          "base_uri": "https://localhost:8080/"
        },
        "id": "fGiWzWcOxqTo",
        "outputId": "2217aa55-9ea6-4c7a-d5b7-61cf8bef0507"
      },
      "execution_count": 51,
      "outputs": [
        {
          "output_type": "stream",
          "name": "stdout",
          "text": [
            "-25.0 73.0\n"
          ]
        }
      ]
    },
    {
      "cell_type": "code",
      "source": [
        "out = data[(data < lb) | (data > ub)]\n",
        "print(out)"
      ],
      "metadata": {
        "colab": {
          "base_uri": "https://localhost:8080/"
        },
        "id": "k5NbOj18zjI4",
        "outputId": "dad80d55-65f7-4d08-999e-02175ce4457a"
      },
      "execution_count": 52,
      "outputs": [
        {
          "output_type": "stream",
          "name": "stdout",
          "text": [
            "6    100\n",
            "7    101\n",
            "dtype: int64\n"
          ]
        }
      ]
    },
    {
      "cell_type": "code",
      "source": [
        "#문제 10\n",
        "print('점수 이상치:')\n",
        "S_q1 = df['점수'].quantile(0.25)\n",
        "S_q3 = df['점수'].quantile(0.75)\n",
        "S_iqr = S_q3 - S_q1\n",
        "\n",
        "S_lb = S_q1 - 1.5 * (S_iqr)\n",
        "S_ub = S_q3 + 1.5 * (S_iqr)\n",
        "\n",
        "out = df[(df['점수'] > S_ub) | (df['점수'] < S_lb)]\n",
        "print(out)\n",
        "\n",
        "print(' \\n공부시간 이상치:')\n",
        "T_q1 = df['공부시간'].quantile(0.25)\n",
        "T_q3 = df['공부시간'].quantile(0.75)\n",
        "T_iqr = T_q3 - T_q1\n",
        "\n",
        "T_lb = T_q1 - 1.5 * (T_iqr)\n",
        "T_ub = T_q3 + 1.5 * (T_iqr)\n",
        "out2 = df[(df['공부시간'] > T_ub) | (df['공부시간'] < T_lb)]\n",
        "print(out2)\n",
        "\n",
        "print(' \\n이상치가 제거된 데이터프레임:')\n",
        "data_no_out = df[(df['점수'] < S_ub) & (df['점수'] > S_lb) & (df['공부시간'] < T_ub) & (df['공부시간'] > T_lb)].reset_index(drop=True)\n",
        "print(data_no_out)"
      ],
      "metadata": {
        "colab": {
          "base_uri": "https://localhost:8080/"
        },
        "id": "TvxVQT5v02Nd",
        "outputId": "3360f3cc-7a8e-4460-9b22-a1efb230e0ec"
      },
      "execution_count": 57,
      "outputs": [
        {
          "output_type": "stream",
          "name": "stdout",
          "text": [
            "점수 이상치:\n",
            "    학번   이름   학년   점수 분반  공부시간\n",
            "10  11  NaN  1.0  200  C     0\n",
            "18  19  이순신  1.0  200  A     3\n",
            " \n",
            "공부시간 이상치:\n",
            "    학번    이름   학년  점수 분반  공부시간\n",
            "2    3   강감찬  4.0  91  C    20\n",
            "11  12  신사임당  2.0  96  A    20\n",
            " \n",
            "이상치가 제거된 데이터프레임:\n",
            "    학번    이름   학년  점수 분반  공부시간\n",
            "0    1  신사임당  NaN  69  B     4\n",
            "1    2   홍길동  1.0  92  B     3\n",
            "2    4   강감찬  2.0  70  C     5\n",
            "3    5   강감찬  3.0  83  C     5\n",
            "4    6   이순신  4.0  95  A     0\n",
            "5    7   강감찬  4.0  71  C     1\n",
            "6    8   김유신  NaN  88  B     5\n",
            "7    9  신사임당  3.0  94  A     9\n",
            "8   10   홍길동  NaN  60  B     3\n",
            "9   13   김유신  4.0  65  A     0\n",
            "10  14   NaN  2.0  98  C     1\n",
            "11  15   홍길동  4.0  77  A     2\n",
            "12  16   이순신  4.0  75  A     4\n",
            "13  17   NaN  3.0  64  A     2\n",
            "14  18   홍길동  4.0  91  A     0\n",
            "15  20  신사임당  2.0  61  A     2\n",
            "16  20  신사임당  2.0  61  A     2\n"
          ]
        }
      ]
    }
  ]
}