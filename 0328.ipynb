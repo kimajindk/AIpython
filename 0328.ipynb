{
  "nbformat": 4,
  "nbformat_minor": 0,
  "metadata": {
    "colab": {
      "provenance": [],
      "authorship_tag": "ABX9TyNX9Gmjh0yZ2ckaTBYLKQJm",
      "include_colab_link": true
    },
    "kernelspec": {
      "name": "python3",
      "display_name": "Python 3"
    },
    "language_info": {
      "name": "python"
    }
  },
  "cells": [
    {
      "cell_type": "markdown",
      "metadata": {
        "id": "view-in-github",
        "colab_type": "text"
      },
      "source": [
        "<a href=\"https://colab.research.google.com/github/kimajindk/AIpython/blob/main/0328.ipynb\" target=\"_parent\"><img src=\"https://colab.research.google.com/assets/colab-badge.svg\" alt=\"Open In Colab\"/></a>"
      ]
    },
    {
      "cell_type": "code",
      "execution_count": 12,
      "metadata": {
        "colab": {
          "base_uri": "https://localhost:8080/"
        },
        "id": "hPwyMaNTSUoH",
        "outputId": "f95ea619-c7b2-4c93-b734-bd377edb79ef"
      },
      "outputs": [
        {
          "output_type": "stream",
          "name": "stdout",
          "text": [
            "첫 번째 정수를 입력하세요: 4\n",
            "두 번째 정수를 입력하세요: 5\n",
            "5가 4보다 큽니다.\n"
          ]
        }
      ],
      "source": [
        "#두 수 비교하여 어떤 수가 더 큰지, 같은지 판별하는 코드\n",
        "\n",
        "#2개의 정수 입력받음\n",
        "a=int(input(\"첫 번째 정수를 입력하세요: \"))\n",
        "b=int(input(\"두 번째 정수를 입력하세요: \"))\n",
        "\n",
        "#\n",
        "if a>b:\n",
        "  print(f\"{a}가 {b}보다 큽니다.\")\n",
        "elif a<b:\n",
        "  print(f\"{b}가 {a}보다 큽니다.\")\n",
        "else:\n",
        "  print(f\"{a}와 {b}는 같습니다\")\n"
      ]
    },
    {
      "cell_type": "code",
      "source": [
        "#두 수 비교하여 어떤 수가 더 큰지, 같은지 판별하는 코드\n",
        "\n",
        "#2개의 정수 입력받음\n",
        "a=int(input(\"첫 번째 정수를 입력하세요: \"))\n",
        "b=int(input(\"두 번째 정수를 입력하세요: \"))\n",
        "\n",
        "#\n",
        "if a>b:\n",
        "  print(str(a)+\"가\", str(b)+\"보다\", \"큽니다.\")\n",
        "elif a<b:\n",
        "  print(f\"{b}가 {a}보다 큽니다.\")\n",
        "else:\n",
        "  print(f\"{a}와 {b}는 같습니다\")\n"
      ],
      "metadata": {
        "colab": {
          "base_uri": "https://localhost:8080/"
        },
        "id": "I_R6SWSnTrbH",
        "outputId": "64198ae5-2b68-478d-b7ce-deba6b18cac6"
      },
      "execution_count": 13,
      "outputs": [
        {
          "output_type": "stream",
          "name": "stdout",
          "text": [
            "첫 번째 정수를 입력하세요: 5\n",
            "두 번째 정수를 입력하세요: 2\n",
            "5가 2보다 큽니다.\n"
          ]
        }
      ]
    },
    {
      "cell_type": "code",
      "source": [
        "a, b = map(int, input(\"두 개의 정수를 입력하세요: \").split())\n",
        "\n",
        "if a>b:\n",
        "  print(str(a)+\"가\", str(b)+\"보다\", \"큽니다.\")\n",
        "elif a<b:\n",
        "  print(f\"{b}가 {a}보다 큽니다.\")\n",
        "else:\n",
        "  print(f\"{a}와 {b}는 같습니다\")"
      ],
      "metadata": {
        "colab": {
          "base_uri": "https://localhost:8080/"
        },
        "id": "ylJHUbsqV4_m",
        "outputId": "89f2cd94-df01-46e2-d448-2b99d9344083"
      },
      "execution_count": 19,
      "outputs": [
        {
          "output_type": "stream",
          "name": "stdout",
          "text": [
            "두 개의 정수를 입력하세요: 4455 77\n",
            "입력한 정수: 4455, 77\n",
            "4455가 77보다 큽니다.\n"
          ]
        }
      ]
    },
    {
      "cell_type": "code",
      "source": [
        "a,b,c=map(int, input(\"세 개의 정수를 입력하세요: \").split())\n",
        "\n",
        "\n",
        "max_num=a\n",
        "\n",
        "if b>max_num:\n",
        "  max_num=b\n",
        "if c>max_num:\n",
        "  max_num=c\n",
        "\n",
        "print(f\"입력하신 세 수 중 가장 큰 수는 {max_num}입니다.\")"
      ],
      "metadata": {
        "colab": {
          "base_uri": "https://localhost:8080/"
        },
        "id": "eHuMKbCEWk-k",
        "outputId": "6001c17f-2a49-4802-92cd-f8cd62c9147d"
      },
      "execution_count": 30,
      "outputs": [
        {
          "output_type": "stream",
          "name": "stdout",
          "text": [
            "세 개의 정수를 입력하세요: 2 5 5\n",
            "입력하신 세 수 중 가장 큰 수는 5입니다.\n"
          ]
        }
      ]
    },
    {
      "cell_type": "code",
      "source": [
        "a=int(input(\"시험 점수(0-100)를 입력하세요: \"))\n",
        "\n",
        "if 0<= a <=100:\n",
        "  if a>=90:\n",
        "    print(\"당신의 학점은 A입니다.\")\n",
        "  elif a>=80:\n",
        "    print(\"당신의 학점은 B입니다.\")\n",
        "  elif a>=70:\n",
        "    print(\"당신의 학점은 C입니다.\")\n",
        "  elif a>=60:\n",
        "    print(\"당신의 학점은 D입니다.\")\n",
        "  else:\n",
        "    print(\"당신의 학점은 F입니다.\")\n",
        "else:\n",
        "  print(\"유효한 점수를 입력하세요.\")"
      ],
      "metadata": {
        "colab": {
          "base_uri": "https://localhost:8080/"
        },
        "id": "vVafvLE5Y7Vv",
        "outputId": "5ba606cd-9b01-4535-f6a4-dc715be3103f"
      },
      "execution_count": 47,
      "outputs": [
        {
          "output_type": "stream",
          "name": "stdout",
          "text": [
            "시험 점수(0-100)를 입력하세요: 67\n",
            "당신의 학점은 D입니다.\n"
          ]
        }
      ]
    },
    {
      "cell_type": "code",
      "source": [
        "a=float(input(\"시험 점수(0-100)를 입력하세요: \"))\n",
        "\n",
        "if 0<= a <=100:\n",
        "  if a>=90:\n",
        "    score=\"A\"\n",
        "  elif a>=80:\n",
        "    score=\"B\"\n",
        "  elif a>=70:6676\n",
        "    score=\"C\"\n",
        "  elif a>=60:\n",
        "    score=\"D\"\n",
        "  else:\n",
        "    score=\"F\"\n",
        "  print(f\"당신의 점수는 {score}입니다.\")\n",
        "else:\n",
        "  print(\"유효한 점수를 입력하세요.\")"
      ],
      "metadata": {
        "colab": {
          "base_uri": "https://localhost:8080/"
        },
        "id": "DFNky7uRabEI",
        "outputId": "4d8e840d-d8b9-4442-af66-8614a3152cc5"
      },
      "execution_count": 51,
      "outputs": [
        {
          "output_type": "stream",
          "name": "stdout",
          "text": [
            "시험 점수(0-100)를 입력하세요: 45.\n",
            "당신의 점수는 F입니다.\n"
          ]
        }
      ]
    },
    {
      "cell_type": "code",
      "source": [
        "#윤년 판별하기\n",
        "a=int(input(\"연도를 입력하세요: \"))\n",
        "\n",
        "#윤년의 조건\n",
        "#4로 나누어 떨어지면서 100으로 나누어 떨어지지 않는 해\n",
        "if a%4 == 0 and a%100 != 0:\n",
        "  print(f\"{a}년은 윤년입니다.\")\n",
        "elif a%400 == 0:\n",
        "  print(f\"{a}년은 윤년입니다.\")\n",
        "else:\n",
        "  print(f\"{a}년은 윤년이 아닙니다.\")\n",
        "\n",
        "#400으로 나누어 떨어지는 해"
      ],
      "metadata": {
        "colab": {
          "base_uri": "https://localhost:8080/"
        },
        "id": "SvjmUuWTcGRG",
        "outputId": "83008bfb-d6d6-4260-dfb8-96567f666baa"
      },
      "execution_count": 61,
      "outputs": [
        {
          "output_type": "stream",
          "name": "stdout",
          "text": [
            "연도를 입력하세요: -100\n",
            "-100년은 윤년이 아닙니다.\n"
          ]
        }
      ]
    },
    {
      "cell_type": "code",
      "source": [
        "#윤년 판별하기\n",
        "a=int(input(\"연도를 입력하세요: \"))\n",
        "\n",
        "#윤년의 조건\n",
        "#4로 나누어 떨어지면서 100으로 나누어 떨어지지 않는 해\n",
        "if (a%4 == 0 and a%100 != 0) or (a%400 == 0):\n",
        "  print(f\"{a}년은 윤년입니다.\")\n",
        "else:\n",
        "  print(f\"{a}년은 윤년이 아닙니다.\")\n",
        "\n",
        "#400으로 나누어 떨어지는 해"
      ],
      "metadata": {
        "colab": {
          "base_uri": "https://localhost:8080/"
        },
        "id": "1vVaQQJNgMq9",
        "outputId": "f08dd917-4699-48b8-d713-fc46f9f8b39c"
      },
      "execution_count": 62,
      "outputs": [
        {
          "output_type": "stream",
          "name": "stdout",
          "text": [
            "연도를 입력하세요: 456\n",
            "456년은 윤년입니다.\n"
          ]
        }
      ]
    },
    {
      "cell_type": "code",
      "source": [
        "for i in range(1,6):\n",
        "  print(i)"
      ],
      "metadata": {
        "colab": {
          "base_uri": "https://localhost:8080/"
        },
        "id": "HllOzPKVg-Yb",
        "outputId": "c276459f-12ff-4480-aac2-78956a83393f"
      },
      "execution_count": 65,
      "outputs": [
        {
          "output_type": "stream",
          "name": "stdout",
          "text": [
            "1\n",
            "2\n",
            "3\n",
            "4\n",
            "5\n"
          ]
        }
      ]
    },
    {
      "cell_type": "code",
      "source": [
        "for i in range(5):\n",
        "  print(i+1)"
      ],
      "metadata": {
        "colab": {
          "base_uri": "https://localhost:8080/"
        },
        "id": "8F3wj6SWk6CI",
        "outputId": "af3bf260-09ef-41cb-c3a5-f1c1e5a66a7a"
      },
      "execution_count": 67,
      "outputs": [
        {
          "output_type": "stream",
          "name": "stdout",
          "text": [
            "1\n",
            "2\n",
            "3\n",
            "4\n",
            "5\n"
          ]
        }
      ]
    },
    {
      "cell_type": "code",
      "source": [
        "x=1\n",
        "while x<10:\n",
        "  print(x)\n",
        "  x += 1"
      ],
      "metadata": {
        "colab": {
          "base_uri": "https://localhost:8080/"
        },
        "id": "h7OGDsNjl1dD",
        "outputId": "a5e2f85c-36f6-4a1a-ed47-d1bdc28253d5"
      },
      "execution_count": 79,
      "outputs": [
        {
          "output_type": "stream",
          "name": "stdout",
          "text": [
            "1\n",
            "2\n",
            "3\n",
            "4\n",
            "5\n",
            "6\n",
            "7\n",
            "8\n",
            "9\n"
          ]
        }
      ]
    },
    {
      "cell_type": "code",
      "source": [
        "for i in range(9):\n",
        "  if i==10:\n",
        "    break\n",
        "  print(i+1)"
      ],
      "metadata": {
        "colab": {
          "base_uri": "https://localhost:8080/"
        },
        "id": "3umxiFNonWy6",
        "outputId": "c7249018-77fa-4fbf-d4f3-d540fb24aa13"
      },
      "execution_count": 82,
      "outputs": [
        {
          "output_type": "stream",
          "name": "stdout",
          "text": [
            "1\n",
            "2\n",
            "3\n",
            "4\n",
            "5\n",
            "6\n",
            "7\n",
            "8\n",
            "9\n"
          ]
        }
      ]
    },
    {
      "cell_type": "code",
      "source": [
        "n=int(input(\"양의 정수를 입력하세요: \"))\n",
        "sum=0\n",
        "for i in range(1,n+1):\n",
        "  sum += i\n",
        "print(sum)"
      ],
      "metadata": {
        "colab": {
          "base_uri": "https://localhost:8080/"
        },
        "id": "SsWZGzFvoG78",
        "outputId": "c5116d6f-ea72-4974-a55d-c5e4cf6edc0b"
      },
      "execution_count": 89,
      "outputs": [
        {
          "output_type": "stream",
          "name": "stdout",
          "text": [
            "양의 정수를 입력하세요: 100\n",
            "5050\n"
          ]
        }
      ]
    },
    {
      "cell_type": "code",
      "source": [
        "x=0\n",
        "print(\"'0부터 9까지 출력하는 코드'\")\n",
        "while x<10:\n",
        "  print(x)\n",
        "  x+=1\n",
        "print(\"while 종료\")"
      ],
      "metadata": {
        "colab": {
          "base_uri": "https://localhost:8080/"
        },
        "id": "VCupTlMepIBQ",
        "outputId": "52d9de26-02da-46f7-96c5-dbc4704e01fd"
      },
      "execution_count": 96,
      "outputs": [
        {
          "output_type": "stream",
          "name": "stdout",
          "text": [
            "'0부터 9까지 출력하는 코드'\n",
            "0\n",
            "1\n",
            "2\n",
            "3\n",
            "4\n",
            "5\n",
            "6\n",
            "7\n",
            "8\n",
            "9\n",
            "while 종료\n"
          ]
        }
      ]
    },
    {
      "cell_type": "code",
      "source": [
        "for i in range(10):\n",
        "  print(i)\n",
        "  i=+1"
      ],
      "metadata": {
        "colab": {
          "base_uri": "https://localhost:8080/"
        },
        "id": "-ht4VtHyrhop",
        "outputId": "f1c71d7b-2352-4b5a-eaa7-029948134054"
      },
      "execution_count": 98,
      "outputs": [
        {
          "output_type": "stream",
          "name": "stdout",
          "text": [
            "0\n",
            "1\n",
            "2\n",
            "3\n",
            "4\n",
            "5\n",
            "6\n",
            "7\n",
            "8\n",
            "9\n"
          ]
        }
      ]
    },
    {
      "cell_type": "code",
      "source": [],
      "metadata": {
        "id": "3OdqLAbNsCsO"
      },
      "execution_count": null,
      "outputs": []
    }
  ]
}