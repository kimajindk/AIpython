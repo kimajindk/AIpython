{
  "nbformat": 4,
  "nbformat_minor": 0,
  "metadata": {
    "colab": {
      "provenance": []
    },
    "kernelspec": {
      "name": "python3",
      "display_name": "Python 3"
    },
    "language_info": {
      "name": "python"
    }
  },
  "cells": [
    {
      "cell_type": "code",
      "source": [
        "type = input(\"온도 종류(섭씨 또는 화씨): \")\n",
        "temp = int(input(f\"{type} 온도: \"))\n",
        "\n",
        "if type == \"섭씨\":\n",
        "  f = temp*(9/5)+32\n",
        "  print(f\"화씨 온도: {f}\")\n",
        "  print(\"화씨 온도: %.2f\" % (f))\n",
        "else:\n",
        "  c = (temp-32)*(5/9)\n",
        "  print(f\"섭씨 온도: {c}\")\n",
        "  print(\"섭씨 온도: %.2f\" % (c))"
      ],
      "metadata": {
        "colab": {
          "base_uri": "https://localhost:8080/"
        },
        "id": "8dq-smM4VOfk",
        "outputId": "dda7031a-c96f-4192-fcfd-481ac3dfa720"
      },
      "execution_count": null,
      "outputs": [
        {
          "output_type": "stream",
          "name": "stdout",
          "text": [
            "온도 종류(섭씨 또는 화씨): 섭씨\n",
            "섭씨 온도: 100\n",
            "화씨 온도: 212.0\n",
            "화씨 온도: 212.00\n"
          ]
        }
      ]
    },
    {
      "cell_type": "code",
      "source": [
        "import random\n",
        "\n",
        "print(\"1부터 100까지의 수 하나를 정했습니다.\\n이 숫자를 맞춰보세요.\")\n",
        "\n",
        "a = random.randint(1,100)\n",
        "t = 0\n",
        "\n",
        "while True:\n",
        "  b = int(input(\"1~100 숫자 입력: \"))\n",
        "  t += 1\n",
        "  if a == b:\n",
        "    break\n",
        "  elif a > b:\n",
        "    print(f\"{b}보다 큽니다.\")\n",
        "  else:\n",
        "    print(f\"{b}보다 작습니다.\")\n",
        "\n",
        "print(f\"정답입니다! {t}회 만에 맞췄습니다.\")"
      ],
      "metadata": {
        "colab": {
          "base_uri": "https://localhost:8080/"
        },
        "id": "tzX3k44tX1Rr",
        "outputId": "6badc99b-eb9d-48d5-d581-e97da8e69f5c"
      },
      "execution_count": null,
      "outputs": [
        {
          "output_type": "stream",
          "name": "stdout",
          "text": [
            "1부터 100까지의 수 하나를 정했습니다.\n",
            "이 숫자를 맞춰보세요.\n",
            "1~100 숫자 입력: 49\n",
            "49보다 작습니다.\n",
            "1~100 숫자 입력: 26\n",
            "26보다 작습니다.\n",
            "1~100 숫자 입력: 8\n",
            "8보다 큽니다.\n",
            "1~100 숫자 입력: 45\n",
            "45보다 작습니다.\n",
            "1~100 숫자 입력: 10\n",
            "10보다 큽니다.\n",
            "1~100 숫자 입력: 12\n",
            "12보다 작습니다.\n",
            "1~100 숫자 입력: 11\n",
            "정답입니다! 7회 만에 맞췄습니다.\n"
          ]
        }
      ]
    },
    {
      "cell_type": "code",
      "source": [
        "import random\n",
        "\n",
        "n = int(input())\n",
        "\n",
        "l = []\n",
        "t = 0\n",
        "\n",
        "while True:\n",
        "  t += 1\n",
        "  if t < (n+1):\n",
        "    l.append(random.randint(1,45))\n",
        "  else:\n",
        "    break\n",
        "\n",
        "print(l)"
      ],
      "metadata": {
        "colab": {
          "base_uri": "https://localhost:8080/"
        },
        "id": "hpw65AoiflhJ",
        "outputId": "aded526d-1ce1-4532-9827-3b870997dc57"
      },
      "execution_count": null,
      "outputs": [
        {
          "output_type": "stream",
          "name": "stdout",
          "text": [
            "8\n",
            "[29, 38, 13, 35, 13, 19, 21, 16]\n"
          ]
        }
      ]
    },
    {
      "cell_type": "code",
      "source": [
        "l = [85, 87, 78, 90, 92]\n",
        "s = 0\n",
        "n = 0\n",
        "\n",
        "for i in l: #반복은 리스트 길이 만큼\n",
        "  s += i\n",
        "  n += 1\n",
        "\n",
        "mean = s/n\n",
        "print(mean)"
      ],
      "metadata": {
        "colab": {
          "base_uri": "https://localhost:8080/"
        },
        "id": "l6EywGXslZ4p",
        "outputId": "787108d5-b7fa-4a72-a77a-18867cf112db"
      },
      "execution_count": null,
      "outputs": [
        {
          "output_type": "stream",
          "name": "stdout",
          "text": [
            "86.4\n"
          ]
        }
      ]
    },
    {
      "cell_type": "code",
      "source": [
        "l = [85, 87, 78, 90, 92]\n",
        "\n",
        "mean = sum(l)/len(l)\n",
        "\n",
        "print(mean)"
      ],
      "metadata": {
        "colab": {
          "base_uri": "https://localhost:8080/"
        },
        "id": "OwLj0l9Bu9je",
        "outputId": "14d2c143-c0dc-4e72-b5bc-a51dc233bacf"
      },
      "execution_count": null,
      "outputs": [
        {
          "output_type": "stream",
          "name": "stdout",
          "text": [
            "86.4\n"
          ]
        }
      ]
    },
    {
      "cell_type": "code",
      "source": [
        "fruits = [\"키위\",\"바나나\",\"딸기\"]\n",
        "print(fruits[0])"
      ],
      "metadata": {
        "colab": {
          "base_uri": "https://localhost:8080/"
        },
        "id": "nw21qIbmwEuW",
        "outputId": "d2c7806c-eb8e-48b2-9928-02ee78265035"
      },
      "execution_count": null,
      "outputs": [
        {
          "output_type": "stream",
          "name": "stdout",
          "text": [
            "키위\n"
          ]
        }
      ]
    },
    {
      "cell_type": "code",
      "source": [
        "fruits.remove(\"바나나\")\n",
        "print(fruits)"
      ],
      "metadata": {
        "colab": {
          "base_uri": "https://localhost:8080/"
        },
        "id": "Q_RBDCFlxc_e",
        "outputId": "d5b50512-69f0-41dc-d6c3-d44604ec11ea"
      },
      "execution_count": null,
      "outputs": [
        {
          "output_type": "stream",
          "name": "stdout",
          "text": [
            "['키위', '딸기']\n"
          ]
        }
      ]
    },
    {
      "cell_type": "code",
      "source": [],
      "metadata": {
        "id": "kkXTMIigywjN"
      },
      "execution_count": null,
      "outputs": []
    }
  ]
}