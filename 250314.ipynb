{
  "nbformat": 4,
  "nbformat_minor": 0,
  "metadata": {
    "colab": {
      "provenance": []
    },
    "kernelspec": {
      "name": "python3",
      "display_name": "Python 3"
    },
    "language_info": {
      "name": "python"
    }
  },
  "cells": [
    {
      "cell_type": "code",
      "execution_count": 19,
      "metadata": {
        "colab": {
          "base_uri": "https://localhost:8080/"
        },
        "id": "FGpb-yzVdrI6",
        "outputId": "1178a82a-03eb-49d7-a58e-be04af7ba02c"
      },
      "outputs": [
        {
          "output_type": "stream",
          "name": "stdout",
          "text": [
            "반지름이 5 인 원의 면적은 78.5398 입니다.\n"
          ]
        }
      ],
      "source": [
        "#문제 1\n",
        "#반지름이 5인 원의 면적을 구하시오.\n",
        "#파이값은 3.141592로 계산합니다.\n",
        "\n",
        "#<출력예시>\n",
        "#반지름이 5인 원의 면적은 78.5398 입니다\n",
        "\n",
        "r=5\n",
        "p=3.141592\n",
        "S=p*r**2\n",
        "print(\"반지름이\",r, \"인 원의 면적은\",S,\"입니다.\")"
      ]
    },
    {
      "cell_type": "code",
      "source": [
        "#문제 2\n",
        "#분(정수)을 시간과 분으로 변환하여 출력하시오\n",
        "\n",
        "#<출력예시>\n",
        "#100분은 1시간 40분 입니다.\n",
        "\n",
        "m=100\n",
        "h=m//60\n",
        "m2=m-h*60\n",
        "\n",
        "print(m,\"분은\", h, \"시간\", m2, \"분 입니다.\")"
      ],
      "metadata": {
        "colab": {
          "base_uri": "https://localhost:8080/"
        },
        "id": "jMmeVEWreGCD",
        "outputId": "04d42b8d-d94a-4023-cfed-c243c5b141b0"
      },
      "execution_count": 12,
      "outputs": [
        {
          "output_type": "stream",
          "name": "stdout",
          "text": [
            "100 분은 1 시간 40 분 입니다.\n"
          ]
        }
      ]
    },
    {
      "cell_type": "code",
      "source": [],
      "metadata": {
        "id": "YMdXwjIrgGJ0"
      },
      "execution_count": null,
      "outputs": []
    }
  ]
}